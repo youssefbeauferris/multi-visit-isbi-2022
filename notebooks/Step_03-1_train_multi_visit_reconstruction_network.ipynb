{
 "cells": [
  {
   "cell_type": "markdown",
   "id": "7581f9ff",
   "metadata": {},
   "source": [
    "The following notebook is used to train what is referred to as a multi-visit reconstruction network which leverages previous subject scans to improve the quality of the initial reconstructions (single-visit) generated in Step 01. "
   ]
  },
  {
   "cell_type": "markdown",
   "id": "7f1e41e2",
   "metadata": {},
   "source": [
    "To run this notebook a docker container with the latest version of tensorflow was used. The command used to open this notebook is:\n",
    "\n",
    "docker run -p 8888:8888 --gpus all -v $(pwd):/tf tensorflow/tensorflow:latest-gpu-jupyter \n",
    "\n",
    "Using docker eliminates the need to configure a python environment with a working installation of tensorflow. Keep in mind when running the docker containiner it is best to do so in your home directory. This is because docker the command (pwd)  as files with parent folders with respect to the directory the command is run in, are not accessible to the container. "
   ]
  },
  {
   "cell_type": "code",
   "execution_count": 1,
   "id": "1cad324d",
   "metadata": {},
   "outputs": [],
   "source": [
    "import sys\n",
    "import subprocess\n",
    "\n",
    "def install(name):\n",
    "    subprocess.call(['pip', 'install', name])\n",
    "\n",
    "install('nibabel')\n",
    "install('scikit-learn')\n",
    "\n",
    "import numpy as np\n",
    "import os\n",
    "import glob\n",
    "import sys\n",
    "import nibabel as nib\n",
    "\n",
    "# Importing our model\n",
    "MY_UTILS_PATH = \"../src/\"\n",
    "if not MY_UTILS_PATH in sys.path:\n",
    "    sys.path.append(MY_UTILS_PATH)\n",
    "import enhancement_unet as eu\n",
    "import tensorflow as tf\n",
    "# Importing callbacks and data augmentation utils\n",
    "from tensorflow.keras.models import load_model\n",
    "from tensorflow.keras.callbacks import ModelCheckpoint, EarlyStopping\n",
    "from tensorflow.keras.preprocessing.image import ImageDataGenerator\n",
    "from tensorflow.keras.optimizers import  Adam"
   ]
  },
  {
   "cell_type": "markdown",
   "id": "85ae7a2e",
   "metadata": {},
   "source": [
    "Define input parameters"
   ]
  },
  {
   "cell_type": "code",
   "execution_count": 2,
   "id": "b0b2ea84",
   "metadata": {},
   "outputs": [],
   "source": [
    "#input paramters\n",
    "H,W = (512,512)\n",
    "Hpad = (8 - (H%8))//2\n",
    "Wpad = (8 - (W%8))//2\n",
    "norm = np.sqrt(H*W)\n",
    "patience = 10\n",
    "batch_size = 16\n",
    "epochs = 150\n",
    "lr = 1e-4 #learning rate (higher rate unstable, lower slow)\n",
    "decay = 1e-7 \n",
    "c1,c2 = 20,-6 #cropping slices with little or no anatomical structures"
   ]
  },
  {
   "cell_type": "code",
   "execution_count": 1,
   "id": "9a35f554",
   "metadata": {},
   "outputs": [],
   "source": [
    "registration = 'elastic_' #type of registration performed in Step 02\n",
    "#Load the training and validation file ids\n",
    "training_files =  np.loadtxt(\"../data/train_val_test_split/train_long.txt\", dtype=str)\n",
    "val_files = np.loadtxt(\"../data/train_val_test_split/val_long.txt\", dtype=str)"
   ]
  },
  {
   "cell_type": "code",
   "execution_count": 2,
   "id": "30c16cac",
   "metadata": {},
   "outputs": [
    {
     "data": {
      "text/plain": [
       "array([['TUM37-20190108.nii', 'TUM37-20191105.nii'],\n",
       "       ['TUM37-20190730.nii', 'TUM37-20191105.nii'],\n",
       "       ['TUM36-20181030.nii', 'TUM36-20190527.nii'],\n",
       "       ['TUM29-20180125.nii', 'TUM29-20180716.nii'],\n",
       "       ['TUM28-20180821.nii', 'TUM28-20181120.nii'],\n",
       "       ['TUM27-20180716.nii', 'TUM27-20190104.nii']], dtype='<U18')"
      ]
     },
     "execution_count": 2,
     "metadata": {},
     "output_type": "execute_result"
    }
   ],
   "source": [
    "training_files"
   ]
  },
  {
   "cell_type": "code",
   "execution_count": 3,
   "id": "81873a3d",
   "metadata": {},
   "outputs": [],
   "source": [
    "model_path = '../models/enhancement_unet_sc_10x-iki.h5' #model path\n",
    "weights_path = '../models/weights_enhancement_unet_sc_10x-iki.h5' #weights path\n",
    "previous_path = '../data/reference_reg_10x-iki/' #path to previous scans\n",
    "follow_up_path = '../data/predicted/10x-iki/' #path to initial reconstructions\n",
    "reference_path = '../../../data/brain-cancer/' #path to entire reconstructed dataset"
   ]
  },
  {
   "cell_type": "code",
   "execution_count": 6,
   "id": "0fa68da1",
   "metadata": {},
   "outputs": [],
   "source": [
    "#get training files\n",
    "train_previous_files = [previous_path + registration + ID[0][:-4] + '_' + ID[1][:14] + '.nii' for ID in training_files]\n",
    "train_follow_up_files = [follow_up_path + ID[1][:-4] + '_predicted.nii'  for ID in training_files]\n",
    "train_reference_files = [reference_path + ID[1][:14] + '.nii' for ID in training_files]\n",
    "\n",
    "#get val files\n",
    "val_previous_files = [previous_path + registration + ID[0][:-4] + '_' + ID[1][:14] + '.nii' for ID in val_files]\n",
    "val_follow_up_files = [follow_up_path + ID[1][:-4] + '_predicted.nii' for ID in val_files]\n",
    "val_reference_files = [reference_path + ID[1][:14] + '.nii' for ID in val_files]\n"
   ]
  },
  {
   "cell_type": "code",
   "execution_count": 7,
   "id": "da4e9311",
   "metadata": {},
   "outputs": [
    {
     "name": "stdout",
     "output_type": "stream",
     "text": [
      "number of training samples 746\n"
     ]
    }
   ],
   "source": [
    "#count training samples\n",
    "aux=0\n",
    "for ID in train_previous_files:\n",
    "    aux_shape = nib.load(ID).shape\n",
    "    aux += aux_shape[-1] - (c1 - c2)\n",
    "\n",
    "print('number of training samples', aux)\n",
    "#load training samples into single array (nsamples,height,width,2)\n",
    "train = np.zeros((aux, W, H, 2))\n",
    "train_ref = np.zeros((aux,W,H,1))\n",
    "aux_counter = 0\n",
    "for ii in range(len(train_previous_files)):\n",
    "    prev = nib.load(train_previous_files[ii]).get_fdata()[:,:,c1:c2]\n",
    "    next_ = nib.load(train_follow_up_files[ii]).get_fdata()[:,:,c1:c2]\n",
    "    ref = nib.load(train_reference_files[ii]).get_fdata()[:,:,c1:c2]\n",
    "    \n",
    "    aux = prev.shape[-1]\n",
    "    train[aux_counter:aux_counter+aux,:,:,0] = np.swapaxes(prev,0,2) / np.abs(prev).max()\n",
    "    train[aux_counter:aux_counter+aux,:,:,1] = np.swapaxes(next_,0,2) / np.abs(next_).max()\n",
    "    train_ref[aux_counter:aux_counter+aux,:,:,0] = np.swapaxes(ref,0,2) / np.abs(ref).max()\n",
    "    aux_counter += aux\n"
   ]
  },
  {
   "cell_type": "code",
   "execution_count": 8,
   "id": "7b9416cd",
   "metadata": {},
   "outputs": [
    {
     "name": "stdout",
     "output_type": "stream",
     "text": [
      "number of validation samples 726\n"
     ]
    }
   ],
   "source": [
    "#count validation samples\n",
    "aux=0\n",
    "for ID in val_previous_files:\n",
    "    aux_shape = nib.load(ID).shape\n",
    "    aux += aux_shape[-1] - (c1 - c2)\n",
    "\n",
    "print('number of validation samples', aux)\n",
    "#load validation samples into single array (nsamples, height,width,channels=2)\n",
    "#the two channels account for the previous scan and initial reconstruction\n",
    "val = np.zeros((aux, W, H, 2))\n",
    "val_ref = np.zeros((aux,W,H,1))\n",
    "aux_counter = 0\n",
    "for ii in range(len(val_previous_files)):\n",
    "    prev = nib.load(val_previous_files[ii]).get_fdata()[:,:,c1:c2]\n",
    "    next_ = nib.load(val_follow_up_files[ii]).get_fdata()[:,:,c1:c2]\n",
    "    ref = nib.load(val_reference_files[ii]).get_fdata()[:,:,c1:c2]\n",
    "    aux = prev.shape[-1]\n",
    "    val[aux_counter:aux_counter+aux,:,:,0] = np.swapaxes(prev,0,2) / np.abs(prev).max()\n",
    "    val[aux_counter:aux_counter+aux,:,:,1] = np.swapaxes(next_,0,2) / np.abs(next_).max()\n",
    "    val_ref[aux_counter:aux_counter+aux,:,:,0] = np.swapaxes(ref,0,2) / np.abs(ref).max()\n",
    "    aux_counter += aux"
   ]
  },
  {
   "cell_type": "code",
   "execution_count": 9,
   "id": "511af7f9",
   "metadata": {},
   "outputs": [],
   "source": [
    "#shuffle training data\n",
    "indexes = np.arange(train.shape[0],dtype = int)\n",
    "np.random.shuffle(indexes)\n",
    "train = train[indexes]\n",
    "train_ref = train_ref[indexes]"
   ]
  },
  {
   "cell_type": "code",
   "execution_count": 10,
   "id": "35684839",
   "metadata": {},
   "outputs": [],
   "source": [
    "\n",
    "# Callbacks\n",
    "earlyStopping = EarlyStopping(monitor='val_loss',\n",
    "                                           patience=patience,\n",
    "                                           verbose=0, mode='min')\n",
    "\n",
    "checkpoint = ModelCheckpoint(weights_path, mode = 'min',\n",
    "                             monitor='val_loss',verbose=0,\n",
    "                             save_best_only=True, save_weights_only = True)\n",
    "\n",
    "checkpoint2 = ModelCheckpoint(model_path, monitor='val_loss',\n",
    "                              verbose=0, save_best_only=False,\n",
    "                              save_weights_only=False, mode='min',\n",
    "                              save_freq=1)\n"
   ]
  },
  {
   "cell_type": "code",
   "execution_count": 11,
   "id": "2ab64a87",
   "metadata": {},
   "outputs": [
    {
     "name": "stderr",
     "output_type": "stream",
     "text": [
      "/usr/local/lib/python3.6/dist-packages/keras_preprocessing/image/image_data_generator.py:947: UserWarning: Expected input to be images (as Numpy array) following the data format convention \"channels_last\" (channels on axis 3), i.e. expected either 1, 3 or 4 channels on axis 3. However, it was passed an array with shape (746, 512, 512, 2) (2 channels).\n",
      "  ' channels).')\n",
      "/usr/local/lib/python3.6/dist-packages/keras_preprocessing/image/numpy_array_iterator.py:136: UserWarning: NumpyArrayIterator is set to use the data format convention \"channels_last\" (channels on axis 3), i.e. expected either 1, 3, or 4 channels on axis 3. However, it was passed an array with shape (746, 512, 512, 2) (2 channels).\n",
      "  str(self.x.shape[channels_axis]) + ' channels).')\n"
     ]
    }
   ],
   "source": [
    "#paramters for data augmentation\n",
    "seed = 10\n",
    "image_datagen1 = ImageDataGenerator(\n",
    "    rotation_range=40,\n",
    "    width_shift_range=0.075,\n",
    "    height_shift_range=0.075,\n",
    "    shear_range=0.25,\n",
    "    zoom_range=0.25,\n",
    "    horizontal_flip=True,\n",
    "    vertical_flip=True,\n",
    "    fill_mode='nearest')\n",
    "\n",
    "image_datagen2 = ImageDataGenerator(\n",
    "    rotation_range=40,\n",
    "    width_shift_range=0.075,\n",
    "    height_shift_range=0.075,\n",
    "    shear_range=0.25,\n",
    "    zoom_range=0.25,\n",
    "    horizontal_flip=True,\n",
    "    vertical_flip=True,\n",
    "    fill_mode='nearest')\n",
    "\n",
    "image_datagen1.fit(train, augment=True, seed=seed)\n",
    "image_datagen2.fit(train_ref, augment=True, seed=seed)\n",
    "\n",
    "image_generator1 = image_datagen1.flow(train,batch_size = batch_size,seed = seed)\n",
    "image_generator2 = image_datagen1.flow(train_ref,batch_size = batch_size,seed = seed)\n"
   ]
  },
  {
   "cell_type": "code",
   "execution_count": 12,
   "id": "af8c597a",
   "metadata": {},
   "outputs": [],
   "source": [
    "def combine_generator(gen1,gen2):\n",
    "    while True:\n",
    "        batch_train = gen1.next()\n",
    "        batch_train_ref = gen2.next()\n",
    "        yield([batch_train,batch_train[:,:,:,1,np.newaxis]],\n",
    "              batch_train_ref)\n",
    "\n",
    "combined = combine_generator(image_generator1,image_generator2)\n"
   ]
  },
  {
   "cell_type": "code",
   "execution_count": 13,
   "id": "8d5b78c2",
   "metadata": {},
   "outputs": [
    {
     "name": "stdout",
     "output_type": "stream",
     "text": [
      "Model: \"model\"\n",
      "__________________________________________________________________________________________________\n",
      "Layer (type)                    Output Shape         Param #     Connected to                     \n",
      "==================================================================================================\n",
      "input_1 (InputLayer)            [(None, 512, 512, 2) 0                                            \n",
      "__________________________________________________________________________________________________\n",
      "zero_padding2d (ZeroPadding2D)  (None, 520, 520, 2)  0           input_1[0][0]                    \n",
      "__________________________________________________________________________________________________\n",
      "conv2d (Conv2D)                 (None, 520, 520, 48) 912         zero_padding2d[0][0]             \n",
      "__________________________________________________________________________________________________\n",
      "conv2d_1 (Conv2D)               (None, 520, 520, 48) 20784       conv2d[0][0]                     \n",
      "__________________________________________________________________________________________________\n",
      "conv2d_2 (Conv2D)               (None, 520, 520, 48) 20784       conv2d_1[0][0]                   \n",
      "__________________________________________________________________________________________________\n",
      "max_pooling2d (MaxPooling2D)    (None, 260, 260, 48) 0           conv2d_2[0][0]                   \n",
      "__________________________________________________________________________________________________\n",
      "conv2d_3 (Conv2D)               (None, 260, 260, 64) 27712       max_pooling2d[0][0]              \n",
      "__________________________________________________________________________________________________\n",
      "conv2d_4 (Conv2D)               (None, 260, 260, 64) 36928       conv2d_3[0][0]                   \n",
      "__________________________________________________________________________________________________\n",
      "conv2d_5 (Conv2D)               (None, 260, 260, 64) 36928       conv2d_4[0][0]                   \n",
      "__________________________________________________________________________________________________\n",
      "max_pooling2d_1 (MaxPooling2D)  (None, 130, 130, 64) 0           conv2d_5[0][0]                   \n",
      "__________________________________________________________________________________________________\n",
      "conv2d_6 (Conv2D)               (None, 130, 130, 128 73856       max_pooling2d_1[0][0]            \n",
      "__________________________________________________________________________________________________\n",
      "conv2d_7 (Conv2D)               (None, 130, 130, 128 147584      conv2d_6[0][0]                   \n",
      "__________________________________________________________________________________________________\n",
      "conv2d_8 (Conv2D)               (None, 130, 130, 128 147584      conv2d_7[0][0]                   \n",
      "__________________________________________________________________________________________________\n",
      "max_pooling2d_2 (MaxPooling2D)  (None, 65, 65, 128)  0           conv2d_8[0][0]                   \n",
      "__________________________________________________________________________________________________\n",
      "conv2d_9 (Conv2D)               (None, 65, 65, 256)  295168      max_pooling2d_2[0][0]            \n",
      "__________________________________________________________________________________________________\n",
      "conv2d_10 (Conv2D)              (None, 65, 65, 256)  590080      conv2d_9[0][0]                   \n",
      "__________________________________________________________________________________________________\n",
      "conv2d_11 (Conv2D)              (None, 65, 65, 256)  590080      conv2d_10[0][0]                  \n",
      "__________________________________________________________________________________________________\n",
      "up_sampling2d (UpSampling2D)    (None, 130, 130, 256 0           conv2d_11[0][0]                  \n",
      "__________________________________________________________________________________________________\n",
      "concatenate (Concatenate)       (None, 130, 130, 384 0           up_sampling2d[0][0]              \n",
      "                                                                 conv2d_8[0][0]                   \n",
      "__________________________________________________________________________________________________\n",
      "conv2d_12 (Conv2D)              (None, 130, 130, 128 442496      concatenate[0][0]                \n",
      "__________________________________________________________________________________________________\n",
      "conv2d_13 (Conv2D)              (None, 130, 130, 128 147584      conv2d_12[0][0]                  \n",
      "__________________________________________________________________________________________________\n",
      "conv2d_14 (Conv2D)              (None, 130, 130, 128 147584      conv2d_13[0][0]                  \n",
      "__________________________________________________________________________________________________\n",
      "up_sampling2d_1 (UpSampling2D)  (None, 260, 260, 128 0           conv2d_14[0][0]                  \n",
      "__________________________________________________________________________________________________\n",
      "concatenate_1 (Concatenate)     (None, 260, 260, 192 0           up_sampling2d_1[0][0]            \n",
      "                                                                 conv2d_5[0][0]                   \n",
      "__________________________________________________________________________________________________\n",
      "conv2d_15 (Conv2D)              (None, 260, 260, 64) 110656      concatenate_1[0][0]              \n",
      "__________________________________________________________________________________________________\n",
      "conv2d_16 (Conv2D)              (None, 260, 260, 64) 36928       conv2d_15[0][0]                  \n",
      "__________________________________________________________________________________________________\n",
      "conv2d_17 (Conv2D)              (None, 260, 260, 64) 36928       conv2d_16[0][0]                  \n",
      "__________________________________________________________________________________________________\n",
      "up_sampling2d_2 (UpSampling2D)  (None, 520, 520, 64) 0           conv2d_17[0][0]                  \n",
      "__________________________________________________________________________________________________\n",
      "concatenate_2 (Concatenate)     (None, 520, 520, 112 0           up_sampling2d_2[0][0]            \n",
      "                                                                 conv2d_2[0][0]                   \n",
      "__________________________________________________________________________________________________\n",
      "conv2d_18 (Conv2D)              (None, 520, 520, 48) 48432       concatenate_2[0][0]              \n",
      "__________________________________________________________________________________________________\n",
      "conv2d_19 (Conv2D)              (None, 520, 520, 48) 20784       conv2d_18[0][0]                  \n",
      "__________________________________________________________________________________________________\n",
      "conv2d_20 (Conv2D)              (None, 520, 520, 48) 20784       conv2d_19[0][0]                  \n",
      "__________________________________________________________________________________________________\n",
      "conv2d_21 (Conv2D)              (None, 520, 520, 1)  49          conv2d_20[0][0]                  \n",
      "__________________________________________________________________________________________________\n",
      "cropping2d (Cropping2D)         (None, 512, 512, 1)  0           conv2d_21[0][0]                  \n",
      "__________________________________________________________________________________________________\n",
      "input_2 (InputLayer)            [(None, 512, 512, 1) 0                                            \n",
      "__________________________________________________________________________________________________\n",
      "add (Add)                       (None, 512, 512, 1)  0           cropping2d[0][0]                 \n",
      "                                                                 input_2[0][0]                    \n",
      "==================================================================================================\n",
      "Total params: 3,000,625\n",
      "Trainable params: 3,000,625\n",
      "Non-trainable params: 0\n",
      "__________________________________________________________________________________________________\n",
      "None\n",
      "Epoch 1/150\n",
      " 1/46 [..............................] - ETA: 5:27 - loss: 1.5943e-04"
     ]
    },
    {
     "name": "stderr",
     "output_type": "stream",
     "text": [
      "/usr/local/lib/python3.6/dist-packages/keras/utils/generic_utils.py:497: CustomMaskWarning: Custom mask layers require a config and must override get_config. When loading, the custom mask layer must be passed to the custom_objects argument.\n",
      "  category=CustomMaskWarning)\n"
     ]
    },
    {
     "name": "stdout",
     "output_type": "stream",
     "text": [
      "46/46 [==============================] - 52s 984ms/step - loss: 1.1029e-04 - val_loss: 1.4030e-04\n",
      "Epoch 2/150\n",
      "46/46 [==============================] - 38s 767ms/step - loss: 1.0205e-04 - val_loss: 1.3587e-04\n",
      "Epoch 3/150\n",
      "46/46 [==============================] - 35s 768ms/step - loss: 9.7250e-05 - val_loss: 1.2848e-04\n",
      "Epoch 4/150\n",
      "46/46 [==============================] - 35s 775ms/step - loss: 9.2919e-05 - val_loss: 1.2348e-04\n",
      "Epoch 5/150\n",
      "46/46 [==============================] - 36s 780ms/step - loss: 9.0603e-05 - val_loss: 1.2185e-04\n",
      "Epoch 6/150\n",
      "46/46 [==============================] - 36s 782ms/step - loss: 9.0417e-05 - val_loss: 1.2419e-04\n",
      "Epoch 7/150\n",
      "46/46 [==============================] - 36s 787ms/step - loss: 8.9465e-05 - val_loss: 1.2102e-04\n",
      "Epoch 8/150\n",
      "46/46 [==============================] - 36s 785ms/step - loss: 8.8388e-05 - val_loss: 1.1897e-04\n",
      "Epoch 9/150\n",
      "46/46 [==============================] - 36s 786ms/step - loss: 8.8496e-05 - val_loss: 1.1807e-04\n",
      "Epoch 10/150\n",
      "46/46 [==============================] - 36s 783ms/step - loss: 8.7490e-05 - val_loss: 1.1495e-04\n",
      "Epoch 11/150\n",
      "46/46 [==============================] - 36s 793ms/step - loss: 8.3649e-05 - val_loss: 1.1393e-04\n",
      "Epoch 12/150\n",
      "46/46 [==============================] - 36s 787ms/step - loss: 8.4019e-05 - val_loss: 1.1158e-04\n",
      "Epoch 13/150\n",
      "46/46 [==============================] - 36s 795ms/step - loss: 8.2114e-05 - val_loss: 1.1077e-04\n",
      "Epoch 14/150\n",
      "46/46 [==============================] - 36s 786ms/step - loss: 8.3954e-05 - val_loss: 1.1091e-04\n",
      "Epoch 15/150\n",
      "46/46 [==============================] - 36s 785ms/step - loss: 8.3032e-05 - val_loss: 1.0996e-04\n",
      "Epoch 16/150\n",
      "46/46 [==============================] - 36s 785ms/step - loss: 8.0984e-05 - val_loss: 1.1198e-04\n",
      "Epoch 17/150\n",
      "46/46 [==============================] - 36s 787ms/step - loss: 8.2086e-05 - val_loss: 1.0880e-04\n",
      "Epoch 18/150\n",
      "46/46 [==============================] - 36s 789ms/step - loss: 8.0954e-05 - val_loss: 1.1242e-04\n",
      "Epoch 19/150\n",
      "46/46 [==============================] - 36s 787ms/step - loss: 8.1816e-05 - val_loss: 1.0902e-04\n",
      "Epoch 20/150\n",
      "46/46 [==============================] - 36s 787ms/step - loss: 8.1977e-05 - val_loss: 1.0894e-04\n",
      "Epoch 21/150\n",
      "46/46 [==============================] - 36s 790ms/step - loss: 8.0686e-05 - val_loss: 1.0905e-04\n",
      "Epoch 22/150\n",
      "46/46 [==============================] - 36s 790ms/step - loss: 8.0509e-05 - val_loss: 1.0977e-04\n",
      "Epoch 23/150\n",
      "46/46 [==============================] - 36s 788ms/step - loss: 7.9333e-05 - val_loss: 1.1303e-04\n",
      "Epoch 24/150\n",
      "46/46 [==============================] - 36s 790ms/step - loss: 8.1956e-05 - val_loss: 1.0810e-04\n",
      "Epoch 25/150\n",
      "46/46 [==============================] - 36s 789ms/step - loss: 7.9716e-05 - val_loss: 1.0939e-04\n",
      "Epoch 26/150\n",
      "46/46 [==============================] - 36s 791ms/step - loss: 8.0545e-05 - val_loss: 1.1010e-04\n",
      "Epoch 27/150\n",
      "46/46 [==============================] - 36s 790ms/step - loss: 8.0065e-05 - val_loss: 1.1031e-04\n",
      "Epoch 28/150\n",
      "46/46 [==============================] - 36s 787ms/step - loss: 8.0411e-05 - val_loss: 1.0867e-04\n",
      "Epoch 29/150\n",
      "46/46 [==============================] - 36s 789ms/step - loss: 7.8385e-05 - val_loss: 1.0818e-04\n",
      "Epoch 30/150\n",
      "46/46 [==============================] - 36s 792ms/step - loss: 8.1068e-05 - val_loss: 1.0868e-04\n",
      "Epoch 31/150\n",
      "46/46 [==============================] - 36s 790ms/step - loss: 7.9393e-05 - val_loss: 1.0906e-04\n",
      "Epoch 32/150\n",
      "46/46 [==============================] - 36s 788ms/step - loss: 7.9148e-05 - val_loss: 1.0772e-04\n",
      "Epoch 33/150\n",
      "46/46 [==============================] - 36s 790ms/step - loss: 7.9066e-05 - val_loss: 1.1038e-04\n",
      "Epoch 34/150\n",
      "46/46 [==============================] - 36s 789ms/step - loss: 7.9161e-05 - val_loss: 1.1025e-04\n",
      "Epoch 35/150\n",
      "46/46 [==============================] - 36s 787ms/step - loss: 7.9020e-05 - val_loss: 1.0622e-04\n",
      "Epoch 36/150\n",
      "46/46 [==============================] - 36s 787ms/step - loss: 7.8040e-05 - val_loss: 1.0800e-04\n",
      "Epoch 37/150\n",
      "46/46 [==============================] - 36s 791ms/step - loss: 7.8093e-05 - val_loss: 1.0817e-04\n",
      "Epoch 38/150\n",
      "46/46 [==============================] - 36s 790ms/step - loss: 7.8274e-05 - val_loss: 1.0992e-04\n",
      "Epoch 39/150\n",
      "46/46 [==============================] - 36s 789ms/step - loss: 7.8128e-05 - val_loss: 1.0763e-04\n",
      "Epoch 40/150\n",
      "46/46 [==============================] - 36s 791ms/step - loss: 7.7427e-05 - val_loss: 1.0681e-04\n",
      "Epoch 41/150\n",
      "46/46 [==============================] - 36s 791ms/step - loss: 7.7514e-05 - val_loss: 1.0779e-04\n",
      "Epoch 42/150\n",
      "46/46 [==============================] - 36s 787ms/step - loss: 7.8074e-05 - val_loss: 1.0658e-04\n",
      "Epoch 43/150\n",
      "46/46 [==============================] - 36s 790ms/step - loss: 7.9343e-05 - val_loss: 1.0794e-04\n",
      "Epoch 44/150\n",
      "46/46 [==============================] - 36s 789ms/step - loss: 7.7431e-05 - val_loss: 1.0781e-04\n",
      "Epoch 45/150\n",
      "46/46 [==============================] - 36s 792ms/step - loss: 7.7832e-05 - val_loss: 1.0636e-04\n"
     ]
    }
   ],
   "source": [
    "\n",
    "#initialize model\n",
    "if os.path.isfile(model_path):\n",
    "    model = load_model(model_path)\n",
    "else:\n",
    "    model = eu.enhancement_unet(H=H, W=W,Hpad = Hpad, Wpad = Wpad)\n",
    "    opt = Adam(learning_rate = lr,decay = decay)\n",
    "    model.compile(loss = 'mse',optimizer=opt)\n",
    "\n",
    "print(model.summary())\n",
    "hist = model.fit(combined,#[train,train[:,:,:,1,np.newaxis]], train_ref,\n",
    "                epochs=epochs,\n",
    "                steps_per_epoch=train.shape[0]//batch_size,\n",
    "                verbose=1,\n",
    "                validation_data=([val,val[:,:,:,1,np.newaxis]],val_ref),\n",
    "                callbacks=[checkpoint2, checkpoint, earlyStopping])\n"
   ]
  },
  {
   "cell_type": "code",
   "execution_count": null,
   "id": "b31ce2ab",
   "metadata": {},
   "outputs": [],
   "source": []
  },
  {
   "cell_type": "code",
   "execution_count": null,
   "id": "2724218a",
   "metadata": {},
   "outputs": [],
   "source": []
  },
  {
   "cell_type": "code",
   "execution_count": null,
   "id": "98aede9b",
   "metadata": {},
   "outputs": [],
   "source": []
  }
 ],
 "metadata": {
  "kernelspec": {
   "display_name": "Python 3",
   "language": "python",
   "name": "python3"
  },
  "language_info": {
   "codemirror_mode": {
    "name": "ipython",
    "version": 3
   },
   "file_extension": ".py",
   "mimetype": "text/x-python",
   "name": "python",
   "nbconvert_exporter": "python",
   "pygments_lexer": "ipython3",
   "version": "3.8.8"
  },
  "toc": {
   "base_numbering": 1,
   "nav_menu": {},
   "number_sections": true,
   "sideBar": true,
   "skip_h1_title": false,
   "title_cell": "Table of Contents",
   "title_sidebar": "Contents",
   "toc_cell": false,
   "toc_position": {},
   "toc_section_display": true,
   "toc_window_display": false
  },
  "varInspector": {
   "cols": {
    "lenName": 16,
    "lenType": 16,
    "lenVar": 40
   },
   "kernels_config": {
    "python": {
     "delete_cmd_postfix": "",
     "delete_cmd_prefix": "del ",
     "library": "var_list.py",
     "varRefreshCmd": "print(var_dic_list())"
    },
    "r": {
     "delete_cmd_postfix": ") ",
     "delete_cmd_prefix": "rm(",
     "library": "var_list.r",
     "varRefreshCmd": "cat(var_dic_list()) "
    }
   },
   "types_to_exclude": [
    "module",
    "function",
    "builtin_function_or_method",
    "instance",
    "_Feature"
   ],
   "window_display": false
  }
 },
 "nbformat": 4,
 "nbformat_minor": 5
}
