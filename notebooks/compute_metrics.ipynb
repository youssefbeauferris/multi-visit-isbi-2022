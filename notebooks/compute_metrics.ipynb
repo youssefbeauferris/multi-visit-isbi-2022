{
 "cells": [
  {
   "cell_type": "markdown",
   "id": "e0421ac1",
   "metadata": {},
   "source": [
    "The following notebook computes the quantitative assessment metrics of the single and multi-visit reconstruction produced in Steps 00-03. The metrics are computed on a third independent test set which does not share any scans from subjects within the train and validation sets. The test set consists of 7 longitudinal pairs of scans. The SSIM and pSNR of the single-visit reconstructions are compared to the multi-visit reconstructions to measure the improvements when incorporating previous subject-specific information. The first and last 20 slices are removed before computing metrics to eliminate slices with little to no anatomical structures. "
   ]
  },
  {
   "cell_type": "code",
   "execution_count": 2,
   "id": "435c3426",
   "metadata": {},
   "outputs": [],
   "source": [
    "import glob\n",
    "import nibabel\n",
    "import sys\n",
    "import nibabel as nib\n",
    "import numpy as np\n",
    "import matplotlib.pyplot as plt\n",
    "MY_UTILS_PATH = \"../src/\"\n",
    "if not MY_UTILS_PATH in sys.path:\n",
    "    sys.path.append(MY_UTILS_PATH)\n",
    "import metrics"
   ]
  },
  {
   "cell_type": "code",
   "execution_count": 3,
   "id": "e0c5bea9",
   "metadata": {
    "scrolled": true
   },
   "outputs": [
    {
     "name": "stdout",
     "output_type": "stream",
     "text": [
      "[['TUM04-20171108.nii' 'TUM04-20190328.nii']\n",
      " ['TUM04-20180618.nii' 'TUM04-20181009.nii']\n",
      " ['TUM20-20180205.nii' 'TUM20-20180402.nii']\n",
      " ['TUM10-20171018.nii' 'TUM10-20180122.nii']\n",
      " ['TUM10-20171018.nii' 'TUM10-20180307.nii']\n",
      " ['TUM15-20170531.nii' 'TUM15-20170801.nii']\n",
      " ['TUM15-20170801.nii' 'TUM15-20170816.nii']]\n"
     ]
    }
   ],
   "source": [
    "test_files = np.loadtxt('../data/train_val_test_split/test_long.txt',dtype=str)\n",
    "print(test_files)"
   ]
  },
  {
   "cell_type": "code",
   "execution_count": 4,
   "id": "c79ab7d1",
   "metadata": {},
   "outputs": [],
   "source": [
    "#file pathes\n",
    "initial_path = '../data/predicted/10x-iki/'\n",
    "previous_path = '../data/reference_reg_10x-iki/'\n",
    "enhanced_path = '../data/predicted/10x-enhanced-iki/'\n",
    "ref_path = '../../../data/brain-cancer/'"
   ]
  },
  {
   "cell_type": "code",
   "execution_count": 5,
   "id": "84893dc5",
   "metadata": {},
   "outputs": [],
   "source": [
    "#file ids with pathes\n",
    "initial_files = [initial_path + file[:-4] + '_predicted.nii' for file in test_files[:,1]]\n",
    "previous_files = [previous_path + 'elastic_' + file[0][:-4] + '_' + file[1] for file in test_files]\n",
    "enhanced_files = [enhanced_path + file[:-4] + '_predicted.nii' for file in test_files[:,1]]\n",
    "ref_files = [ref_path + file for file in test_files[:,1]]"
   ]
  },
  {
   "cell_type": "code",
   "execution_count": 6,
   "id": "7be9e481",
   "metadata": {},
   "outputs": [],
   "source": [
    "init_mets = []\n",
    "prev_mets = []\n",
    "enh_mets = []\n",
    "for ii in range(len(test_files)):\n",
    "    init = nib.load(initial_files[ii]).get_fdata()\n",
    "    prev = nib.load(previous_files[ii]).get_fdata()\n",
    "    enh = nib.load(enhanced_files[ii]).get_fdata()\n",
    "    ref = nib.load(ref_files[ii]).get_fdata()\n",
    "    \n",
    "    init = np.swapaxes(init,0,2)\n",
    "    prev = np.swapaxes(prev,0,2)\n",
    "    enh = np.swapaxes(enh,0,2)\n",
    "    ref = np.swapaxes(ref,0,2)\n",
    "    \n",
    "    init = init / np.abs(init).max()\n",
    "    prev = prev / np.abs(prev).max()\n",
    "    enh = enh / np.abs(enh).max()\n",
    "    ref = ref / np.abs(ref).max()\n",
    "    \n",
    "    init_mets.append(metrics.metrics(init,ref))\n",
    "    prev_mets.append(metrics.metrics(prev,ref))\n",
    "    enh_mets.append(metrics.metrics(enh,ref))\n",
    "    \n",
    "    "
   ]
  },
  {
   "cell_type": "code",
   "execution_count": 7,
   "id": "20aaf15c",
   "metadata": {
    "scrolled": true
   },
   "outputs": [
    {
     "name": "stdout",
     "output_type": "stream",
     "text": [
      "(165, 512, 512) (165, 512, 512) (165, 512, 512) (165, 512, 512)\n"
     ]
    }
   ],
   "source": [
    "print(init.shape, prev.shape, enh.shape, ref.shape)"
   ]
  },
  {
   "cell_type": "code",
   "execution_count": 12,
   "id": "99eb8047",
   "metadata": {},
   "outputs": [],
   "source": [
    "init_cropped = []\n",
    "enh_cropped = []\n",
    "for ii in range(len(init_mets)):\n",
    "    init_cropped.append(init_mets[ii][0][20:-20])\n",
    "    enh_cropped.append(enh_mets[ii][0][20:-20])\n",
    "#    print(enh_mets[ii][0][20:-20].mean())"
   ]
  },
  {
   "cell_type": "code",
   "execution_count": 13,
   "id": "e70b40f8",
   "metadata": {},
   "outputs": [],
   "source": [
    "init_cropped = np.concatenate(init_cropped,axis=0)\n",
    "enh_cropped = np.concatenate(enh_cropped,axis=0)"
   ]
  },
  {
   "cell_type": "code",
   "execution_count": 14,
   "id": "658045e2",
   "metadata": {},
   "outputs": [
    {
     "name": "stdout",
     "output_type": "stream",
     "text": [
      "0.8649802402326393 0.9515280475115492\n"
     ]
    }
   ],
   "source": [
    "print(init_cropped.mean(), enh_cropped.mean())"
   ]
  }
 ],
 "metadata": {
  "kernelspec": {
   "display_name": "Python 3",
   "language": "python",
   "name": "python3"
  },
  "language_info": {
   "codemirror_mode": {
    "name": "ipython",
    "version": 3
   },
   "file_extension": ".py",
   "mimetype": "text/x-python",
   "name": "python",
   "nbconvert_exporter": "python",
   "pygments_lexer": "ipython3",
   "version": "3.8.8"
  },
  "toc": {
   "base_numbering": 1,
   "nav_menu": {},
   "number_sections": true,
   "sideBar": true,
   "skip_h1_title": false,
   "title_cell": "Table of Contents",
   "title_sidebar": "Contents",
   "toc_cell": false,
   "toc_position": {},
   "toc_section_display": true,
   "toc_window_display": false
  },
  "varInspector": {
   "cols": {
    "lenName": 16,
    "lenType": 16,
    "lenVar": 40
   },
   "kernels_config": {
    "python": {
     "delete_cmd_postfix": "",
     "delete_cmd_prefix": "del ",
     "library": "var_list.py",
     "varRefreshCmd": "print(var_dic_list())"
    },
    "r": {
     "delete_cmd_postfix": ") ",
     "delete_cmd_prefix": "rm(",
     "library": "var_list.r",
     "varRefreshCmd": "cat(var_dic_list()) "
    }
   },
   "types_to_exclude": [
    "module",
    "function",
    "builtin_function_or_method",
    "instance",
    "_Feature"
   ],
   "window_display": false
  }
 },
 "nbformat": 4,
 "nbformat_minor": 5
}
